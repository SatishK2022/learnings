{
 "cells": [
  {
   "cell_type": "markdown",
   "metadata": {},
   "source": [
    "# **1–5: Variables, Data Types, Input/Output**"
   ]
  },
  {
   "cell_type": "markdown",
   "metadata": {},
   "source": [
    "### 1. Write a program to take your name and age as input and print it."
   ]
  },
  {
   "cell_type": "code",
   "execution_count": null,
   "metadata": {},
   "outputs": [],
   "source": [
    "name = input(\"Enter your name: \")\n",
    "age = int(input(\"Enter your age: \"))\n",
    "\n",
    "print(f\"Hii {name}, Your are {age} years old.\")"
   ]
  },
  {
   "cell_type": "markdown",
   "metadata": {},
   "source": [
    "### 2. Input two numbers and print their sum, difference, product, and quotient."
   ]
  },
  {
   "cell_type": "code",
   "execution_count": null,
   "metadata": {},
   "outputs": [],
   "source": [
    "num1 = int(input(\"Enter the first number: \"))\n",
    "num2 = int(input(\"Enter the second number: \"))\n",
    "\n",
    "print(f\"\\n\\nSum: {num1 + num2}\")\n",
    "print(f\"Difference: {num1 - num2}\")\n",
    "print(f\"Product: {num1 * num2}\")\n",
    "print(f\"Quotient: {num1 / num2}\")"
   ]
  },
  {
   "cell_type": "markdown",
   "metadata": {},
   "source": [
    "### 3. Convert temperature from Celsius to Fahrenheit."
   ]
  },
  {
   "cell_type": "code",
   "execution_count": null,
   "metadata": {},
   "outputs": [],
   "source": [
    "temp_in_c = 50 # in °C\n",
    "temp_in_f = temp_in_c * (9 / 5) + 32\n",
    "\n",
    "print(f\"The Temprature is {temp_in_f} °F\")"
   ]
  },
  {
   "cell_type": "markdown",
   "metadata": {},
   "source": [
    "### 4. Swap two numbers (without using a third variable)."
   ]
  },
  {
   "cell_type": "code",
   "execution_count": null,
   "metadata": {},
   "outputs": [],
   "source": [
    "a = 20\n",
    "b = 10\n",
    "\n",
    "print(f\"A: {a} and B: {b}\")\n",
    "\n",
    "a = a + b\n",
    "b = a - b\n",
    "a = a - b\n",
    "\n",
    "print(f\"A: {a} and B: {b}\")"
   ]
  },
  {
   "cell_type": "markdown",
   "metadata": {},
   "source": [
    "### 5. Take user input for radius and calculate the area and circumference of a circle."
   ]
  },
  {
   "cell_type": "code",
   "execution_count": null,
   "metadata": {},
   "outputs": [],
   "source": [
    "radius = int(input(\"Enter the radius of circle: \"))\n",
    "\n",
    "area = 3.14 * (radius * radius)\n",
    "circum = 2 * 3.14 * radius\n",
    "\n",
    "print(f\"Area is {area} and Circumference is {round(circum, 2)}\")"
   ]
  },
  {
   "cell_type": "markdown",
   "metadata": {},
   "source": [
    "# **6–10: Operators (Arithmetic, Relational, Logical)**"
   ]
  },
  {
   "cell_type": "markdown",
   "metadata": {},
   "source": [
    "### 6. Check if a number is even or odd."
   ]
  },
  {
   "cell_type": "code",
   "execution_count": null,
   "metadata": {},
   "outputs": [],
   "source": [
    "num = 21\n",
    "\n",
    "if (num % 2 == 0):\n",
    "    print(f\"{num} is even\")\n",
    "else:\n",
    "    print(f\"{num} is odd\")"
   ]
  },
  {
   "cell_type": "markdown",
   "metadata": {},
   "source": [
    "### 7. Take two numbers and print whether the first is greater than the second."
   ]
  },
  {
   "cell_type": "code",
   "execution_count": null,
   "metadata": {},
   "outputs": [],
   "source": [
    "num1 = 10\n",
    "num2 = 20\n",
    "\n",
    "if num1 > num2:\n",
    "    print(f\"num1 is greater than num2\")\n",
    "else:\n",
    "    print(f\"num1 is not greater than num2\")"
   ]
  },
  {
   "cell_type": "markdown",
   "metadata": {},
   "source": [
    "### 8. Write a program to demonstrate all arithmetic operators with two inputs."
   ]
  },
  {
   "cell_type": "code",
   "execution_count": null,
   "metadata": {},
   "outputs": [],
   "source": [
    "num1 = 10\n",
    "num2 = 2\n",
    "\n",
    "print(f\"Sum is {num1 + num2}\")\n",
    "print(f\"Substraction is {num1 - num2}\")\n",
    "print(f\"Multiply is {num1 * num2}\")\n",
    "print(f\"Divide is {num1 / num2}\")\n",
    "print(f\"Remainder is {num1 % num2}\")\n",
    "print(f\"Exponentation is {num1 ** num2}\")"
   ]
  },
  {
   "cell_type": "markdown",
   "metadata": {},
   "source": [
    "### 9. Check if a number is divisible by both 3 and 5 using logical operators."
   ]
  },
  {
   "cell_type": "code",
   "execution_count": null,
   "metadata": {},
   "outputs": [],
   "source": [
    "num = 15\n",
    "\n",
    "if num % 3 == 0 or num % 5 == 0:\n",
    "    print(\"Number is divisible by 3 and 5\")\n",
    "else:\n",
    "    print(\"Number is not divisible by 3 and 5\")"
   ]
  },
  {
   "cell_type": "markdown",
   "metadata": {},
   "source": [
    "### 10. Print true if a person is eligible to vote (age >= 18), otherwise false."
   ]
  },
  {
   "cell_type": "code",
   "execution_count": null,
   "metadata": {},
   "outputs": [],
   "source": [
    "age = 21\n",
    "\n",
    "if age >= 18:\n",
    "    print(\"You are eligible to vote\")\n",
    "else:\n",
    "    print(\"You are not eligible to vote\")"
   ]
  },
  {
   "cell_type": "markdown",
   "metadata": {},
   "source": [
    "# **11–20: Conditionals (if, else, nested if)**"
   ]
  },
  {
   "cell_type": "markdown",
   "metadata": {},
   "source": [
    "### 11. Find the greatest of three numbers."
   ]
  },
  {
   "cell_type": "code",
   "execution_count": null,
   "metadata": {},
   "outputs": [],
   "source": [
    "num1 = 100\n",
    "num2 = 20\n",
    "num3 = 300\n",
    "\n",
    "if (num1 > num2 and num1 > num3):\n",
    "    print(f\"The greatest number is Num1 {num1}\")\n",
    "elif (num2 > num3 and num2 > num1):\n",
    "    print(f\"The greatest number is Num2 {num2}\")\n",
    "else:\n",
    "    print(f\"The greatest number is Num3 {num3}\")"
   ]
  },
  {
   "cell_type": "markdown",
   "metadata": {},
   "source": [
    "### 12. Check whether a number is positive, negative, or zero."
   ]
  },
  {
   "cell_type": "code",
   "execution_count": null,
   "metadata": {},
   "outputs": [],
   "source": [
    "num = -10\n",
    "\n",
    "if (num > 0):\n",
    "    print(\"Positive\")\n",
    "elif (num < 0):\n",
    "    print(\"Negative\")\n",
    "else:\n",
    "    print(\"Zero\")"
   ]
  },
  {
   "cell_type": "markdown",
   "metadata": {},
   "source": [
    "### 13. Write a program to assign grades based on marks (if-else ladder)."
   ]
  },
  {
   "cell_type": "code",
   "execution_count": null,
   "metadata": {},
   "outputs": [],
   "source": [
    "marks = 61\n",
    "\n",
    "if (marks >= 0 and marks <= 40):\n",
    "    print(\"Fail\")\n",
    "elif (marks > 40 and marks <= 60):\n",
    "    print(\"Grade C\")\n",
    "elif (marks > 60 and marks <= 80):\n",
    "    print(\"Grade B\")\n",
    "elif (marks > 80 and marks <= 100):\n",
    "    print(\"Grade A\")\n",
    "else:\n",
    "    print(\"Fail\")"
   ]
  },
  {
   "cell_type": "markdown",
   "metadata": {},
   "source": [
    "### 14. Check if a year is a leap year."
   ]
  },
  {
   "cell_type": "code",
   "execution_count": null,
   "metadata": {},
   "outputs": [],
   "source": [
    "year = 1900\n",
    "\n",
    "if (year % 4 == 0 and year % 100 != 0) or (year % 400 == 0):\n",
    "    print(\"Leap Year\")\n",
    "else:\n",
    "    print(\"Not Leap Year\")"
   ]
  },
  {
   "cell_type": "markdown",
   "metadata": {},
   "source": [
    "### 15. Take 3 sides of a triangle and check if it's valid or not."
   ]
  },
  {
   "cell_type": "code",
   "execution_count": null,
   "metadata": {},
   "outputs": [],
   "source": [
    "a = 6\n",
    "b = 2\n",
    "c = 3\n",
    "\n",
    "if (a + b) > c and (b + c) > a and (a + c) > b:\n",
    "    print(\"Triangle is Valid\")\n",
    "else:\n",
    "    print(\"Triangle is Invalid\")"
   ]
  },
  {
   "cell_type": "markdown",
   "metadata": {},
   "source": [
    "### 16. Check if a number is prime or not."
   ]
  },
  {
   "cell_type": "code",
   "execution_count": null,
   "metadata": {},
   "outputs": [],
   "source": [
    "num = int(input(\"Enter the number: \"))\n",
    "\n",
    "if num <= 1:\n",
    "    print(\"Not Prime\")\n",
    "\n",
    "for i in range(2, num):\n",
    "    if num % i == 0:\n",
    "        print(\"Not Prime\")\n",
    "        break\n",
    "else:\n",
    "    print(\"Prime\")"
   ]
  },
  {
   "cell_type": "markdown",
   "metadata": {},
   "source": [
    "### 17. Simple calculator using if-else (take two numbers and an operator)."
   ]
  },
  {
   "cell_type": "code",
   "execution_count": null,
   "metadata": {},
   "outputs": [],
   "source": [
    "a = int(input(\"Enter the first number: \"))\n",
    "b = int(input(\"Enter the second number: \"))\n",
    "\n",
    "operator = input(\"Enter the Operator (+, -, *, /, %)\")\n",
    "\n",
    "if operator == '+':\n",
    "    print(a + b)\n",
    "elif operator == '-':\n",
    "    print(a - b)\n",
    "elif operator == '*':\n",
    "    print(a * b)\n",
    "elif operator == '/':\n",
    "    print(a / b)\n",
    "elif operator == '%':\n",
    "    print(a % b)\n",
    "else:\n",
    "    print(\"Invalid Operator\")"
   ]
  },
  {
   "cell_type": "markdown",
   "metadata": {},
   "source": [
    "### 18. Take the day number (1 to 7) and print the corresponding day name."
   ]
  },
  {
   "cell_type": "code",
   "execution_count": null,
   "metadata": {},
   "outputs": [],
   "source": [
    "day = int(input(\"Enter the day number(1 to 7): \"))\n",
    "\n",
    "if day == 1:\n",
    "    print(\"Monday\")\n",
    "elif day == 2:\n",
    "    print(\"Tuesday\")\n",
    "elif day == 3:\n",
    "    print(\"Wednesday\")\n",
    "elif day == 4:\n",
    "    print(\"Thursday\")\n",
    "elif day == 5:\n",
    "    print(\"Friday\")\n",
    "elif day == 6:\n",
    "    print(\"Saturday\")\n",
    "elif day == 7:\n",
    "    print(\"Sunday\")\n",
    "else:\n",
    "    print(\"Invalid Day\")"
   ]
  },
  {
   "cell_type": "markdown",
   "metadata": {},
   "source": [
    "### 19. Check if a character is a vowel or consonant."
   ]
  },
  {
   "cell_type": "code",
   "execution_count": null,
   "metadata": {},
   "outputs": [],
   "source": [
    "char = input(\"Enter a char: \").lower()\n",
    "\n",
    "if (char == 'a') or (char == 'e') or (char == 'i') or (char == 'o') or (char == 'u'):\n",
    "    print(\"Char is Vowel\")\n",
    "else:\n",
    "    print(\"Char is Consonant\")"
   ]
  },
  {
   "cell_type": "markdown",
   "metadata": {},
   "source": [
    "### 20. Write a program to check if a given number is a palindrome."
   ]
  },
  {
   "cell_type": "code",
   "execution_count": null,
   "metadata": {},
   "outputs": [],
   "source": [
    "num = int(input(\"Enter the number: \"))\n",
    "\n",
    "temp = num\n",
    "reversed_num = 0\n",
    "\n",
    "while temp != 0:\n",
    "    digit = temp % 10\n",
    "    reversed_num = reversed_num * 10 + digit\n",
    "    temp //= 10\n",
    "\n",
    "if num == reversed_num:\n",
    "    print(\"Palindrome Number\")\n",
    "else:\n",
    "    print(\"Not Palindrome Number\")"
   ]
  },
  {
   "cell_type": "markdown",
   "metadata": {},
   "source": [
    "# **21–30: Loops (for, while)**"
   ]
  },
  {
   "cell_type": "markdown",
   "metadata": {},
   "source": [
    "### 21. Print numbers from 1 to 100 using a loop."
   ]
  },
  {
   "cell_type": "code",
   "execution_count": null,
   "metadata": {},
   "outputs": [],
   "source": [
    "for i in range(1, 101):\n",
    "    print(i)"
   ]
  },
  {
   "cell_type": "markdown",
   "metadata": {},
   "source": [
    "### 22. Print the multiplication table of a given number."
   ]
  },
  {
   "cell_type": "code",
   "execution_count": null,
   "metadata": {},
   "outputs": [],
   "source": [
    "num = 2\n",
    "\n",
    "for i in range(1, 11):\n",
    "    print(f\"{num} * {i} = {num * i}\")"
   ]
  },
  {
   "cell_type": "markdown",
   "metadata": {},
   "source": [
    "### 23. Count the number of digits in a given number."
   ]
  },
  {
   "cell_type": "code",
   "execution_count": null,
   "metadata": {},
   "outputs": [],
   "source": [
    "num = 10101010\n",
    "\n",
    "count = 0\n",
    "while num > 0:\n",
    "    count += 1\n",
    "    num = num // 10\n",
    "\n",
    "print(f\"Digits in {num} is {count}\")"
   ]
  },
  {
   "cell_type": "markdown",
   "metadata": {},
   "source": [
    "### 24. Calculate the sum of digits of a number."
   ]
  },
  {
   "cell_type": "code",
   "execution_count": null,
   "metadata": {},
   "outputs": [],
   "source": [
    "num = 12345\n",
    "sum = 0\n",
    "\n",
    "while num > 0:\n",
    "    digit = num % 10 # This gets the last digit\n",
    "    sum += digit\n",
    "\n",
    "    num = num // 10 # This removes the last digit from the number\n",
    "\n",
    "print(f\"The sum is {sum}\")"
   ]
  },
  {
   "cell_type": "markdown",
   "metadata": {},
   "source": [
    "### 25. Reverse a given number."
   ]
  },
  {
   "cell_type": "code",
   "execution_count": null,
   "metadata": {},
   "outputs": [],
   "source": [
    "num = 123\n",
    "\n",
    "rev = 0\n",
    "\n",
    "while num > 0:\n",
    "    digit = num % 10\n",
    "    rev = rev * 10 + digit\n",
    "    num = num // 10\n",
    "\n",
    "print(f\"Reversed number is {rev}\")"
   ]
  },
  {
   "cell_type": "markdown",
   "metadata": {},
   "source": [
    "### 26. Find factorial of a number using loop."
   ]
  },
  {
   "cell_type": "code",
   "execution_count": null,
   "metadata": {},
   "outputs": [],
   "source": [
    "num = 6\n",
    "fact = 1\n",
    "\n",
    "for i in range(1, num + 1):\n",
    "    fact = fact * i\n",
    "\n",
    "print(f\"The Factorial of {num} is {fact}\")"
   ]
  },
  {
   "cell_type": "markdown",
   "metadata": {},
   "source": [
    "### 27. Generate the Fibonacci series up to n terms."
   ]
  },
  {
   "cell_type": "code",
   "execution_count": null,
   "metadata": {},
   "outputs": [],
   "source": [
    "length_of_series = int(input(\"Enter the Length of Fibonacci Series: \"))\n",
    "\n",
    "series = [0, 1]\n",
    "\n",
    "for i in range(length_of_series - 2):\n",
    "    sum = series[i] + series[i + 1]\n",
    "    series.append(sum)\n",
    "\n",
    "print(f\"Fibonacci Series is {series}\") "
   ]
  },
  {
   "cell_type": "markdown",
   "metadata": {},
   "source": [
    "### 28. Print all even numbers between 1 to 100."
   ]
  },
  {
   "cell_type": "code",
   "execution_count": null,
   "metadata": {},
   "outputs": [],
   "source": [
    "for i in range(1, 101):\n",
    "    if i % 2 == 0:\n",
    "        print(i)"
   ]
  },
  {
   "cell_type": "markdown",
   "metadata": {},
   "source": [
    "### 29. Check whether a number is an Armstrong number."
   ]
  },
  {
   "cell_type": "code",
   "execution_count": null,
   "metadata": {},
   "outputs": [],
   "source": [
    "num = int(input(\"Enter a number: \"))\n",
    "\n",
    "temp = num\n",
    "total = 0\n",
    "\n",
    "while temp > 0:\n",
    "    digit = temp % 10\n",
    "    total = total + (digit ** 3)\n",
    "    temp = temp // 10\n",
    "\n",
    "if total == num:\n",
    "    print(f\"{num} is an armstrong number\")\n",
    "else:\n",
    "    print(f\"{num} is not an armstrong number\")"
   ]
  },
  {
   "cell_type": "markdown",
   "metadata": {},
   "source": [
    "### 30. Print the sum of all numbers divisible by 5 between 1 and 100."
   ]
  },
  {
   "cell_type": "code",
   "execution_count": null,
   "metadata": {},
   "outputs": [],
   "source": [
    "total = 0\n",
    "\n",
    "for i in range(1, 101):\n",
    "    if i % 5 == 0:\n",
    "        total = total + i\n",
    "\n",
    "print(f\"The sum of numbers divisible by 5 between 1 and 100 is {total}\")"
   ]
  },
  {
   "cell_type": "markdown",
   "metadata": {},
   "source": [
    "# **31–35: Arrays (Basics)**"
   ]
  },
  {
   "cell_type": "markdown",
   "metadata": {},
   "source": [
    "### 31. Find the maximum element in an array."
   ]
  },
  {
   "cell_type": "code",
   "execution_count": null,
   "metadata": {},
   "outputs": [],
   "source": [
    "arr = [1, 4, 5, 10, 2, 6]\n",
    "\n",
    "max_num = arr[0]\n",
    "\n",
    "for i in range(len(arr)):\n",
    "    if arr[i] > max_num:\n",
    "        max_num = arr[i]\n",
    "\n",
    "print(f\"The maximum number in the array is {max_num}\")"
   ]
  },
  {
   "cell_type": "markdown",
   "metadata": {},
   "source": [
    "### 32. Calculate the sum of all elements in an array."
   ]
  },
  {
   "cell_type": "code",
   "execution_count": null,
   "metadata": {},
   "outputs": [],
   "source": [
    "arr = [1, 4, 5, 10, 2, 6]\n",
    "total = 0\n",
    "\n",
    "for i in range(len(arr)):\n",
    "    total += arr[i]\n",
    "\n",
    "print(f\"The total of array elements is {total}\")"
   ]
  },
  {
   "cell_type": "markdown",
   "metadata": {},
   "source": [
    "### 33. Count the number of even and odd numbers in an array."
   ]
  },
  {
   "cell_type": "code",
   "execution_count": null,
   "metadata": {},
   "outputs": [],
   "source": [
    "arr = [1, 4, 5, 10, 2, 6]\n",
    "even_count = 0\n",
    "odd_count = 0\n",
    "\n",
    "for i in range(len(arr)):\n",
    "    if arr[i] % 2 == 0:\n",
    "        even_count += 1\n",
    "    else:\n",
    "        odd_count += 1\n",
    "\n",
    "print(f\"The number of even present in array is {even_count} and odd is {odd_count}\")"
   ]
  },
  {
   "cell_type": "markdown",
   "metadata": {},
   "source": [
    "### 34. Find the second largest element in an array."
   ]
  },
  {
   "cell_type": "code",
   "execution_count": null,
   "metadata": {},
   "outputs": [],
   "source": [
    "arr = [1, 4, 5, 10, 2, 6]\n",
    "\n",
    "largest = arr[0]\n",
    "second_largest = float('inf')\n",
    "\n",
    "for num in arr:\n",
    "    if num > largest:\n",
    "        second_largest = largest\n",
    "        largest = num\n",
    "    elif num > second_largest and num != largest:\n",
    "        second_largest = num\n",
    "\n",
    "print(f\"The second largest number is {second_largest}\")"
   ]
  },
  {
   "cell_type": "markdown",
   "metadata": {},
   "source": [
    "### 35. Reverse the elements of an array."
   ]
  },
  {
   "cell_type": "code",
   "execution_count": null,
   "metadata": {},
   "outputs": [],
   "source": [
    "arr = [1, 4, 5, 10, 2, 6]\n",
    "\n",
    "start = 0\n",
    "end = len(arr) - 1\n",
    "\n",
    "while start < end:\n",
    "    arr[start], arr[end] = arr[end], arr[start]\n",
    "\n",
    "    start += 1\n",
    "    end -= 1\n",
    "\n",
    "print(f\"The reversed array is {arr}\")"
   ]
  },
  {
   "cell_type": "markdown",
   "metadata": {},
   "source": [
    "# **36–40: Strings (Basics)**"
   ]
  },
  {
   "cell_type": "markdown",
   "metadata": {},
   "source": [
    "### 36. Take a string input and print it in reverse."
   ]
  },
  {
   "cell_type": "code",
   "execution_count": null,
   "metadata": {},
   "outputs": [],
   "source": [
    "string = \"Satish Kumar\"\n",
    "\n",
    "print(string[::-1])"
   ]
  },
  {
   "cell_type": "markdown",
   "metadata": {},
   "source": [
    "### 37. Count vowels and consonants in a string."
   ]
  },
  {
   "cell_type": "code",
   "execution_count": null,
   "metadata": {},
   "outputs": [],
   "source": [
    "string = \"Hello\"\n",
    "vowels = ['a', 'e', 'i', 'o', 'u']\n",
    "\n",
    "vowels_count = 0\n",
    "constant_count = 0\n",
    "\n",
    "for i in string:\n",
    "    if i in vowels:\n",
    "        vowels_count += 1\n",
    "    else:\n",
    "        constant_count += 1\n",
    "\n",
    "print(f\"Vowels: {vowels_count} and Consonant: {constant_count}\")"
   ]
  },
  {
   "cell_type": "markdown",
   "metadata": {},
   "source": [
    "### 38. Check if a string is a palindrome."
   ]
  },
  {
   "cell_type": "code",
   "execution_count": null,
   "metadata": {},
   "outputs": [],
   "source": [
    "name = \"radar\"\n",
    "name = name.casefold()\n",
    "rev_str = reversed(name)\n",
    "\n",
    "if list(name) == list(rev_str):\n",
    "    print(\"Palindrome Number\")\n",
    "else:\n",
    "    print(\"Not Palindrome Number\")"
   ]
  },
  {
   "cell_type": "markdown",
   "metadata": {},
   "source": [
    "### 39. Count the number of words in a sentence."
   ]
  },
  {
   "cell_type": "code",
   "execution_count": null,
   "metadata": {},
   "outputs": [],
   "source": [
    "string = \"Hello Dear, How are you?\"\n",
    "\n",
    "words = len(string.split(' '))\n",
    "\n",
    "print(f\"The number of words is {words}\")"
   ]
  },
  {
   "cell_type": "markdown",
   "metadata": {},
   "source": [
    "### 40. Convert a string to uppercase and lowercase."
   ]
  },
  {
   "cell_type": "code",
   "execution_count": null,
   "metadata": {},
   "outputs": [],
   "source": [
    "string = \"Satish Kumar\"\n",
    "\n",
    "print(f\"Lower: {string.lower()}\")\n",
    "print(f\"Upper: {string.upper()}\")"
   ]
  }
 ],
 "metadata": {
  "kernelspec": {
   "display_name": "Python 3",
   "language": "python",
   "name": "python3"
  },
  "language_info": {
   "codemirror_mode": {
    "name": "ipython",
    "version": 3
   },
   "file_extension": ".py",
   "mimetype": "text/x-python",
   "name": "python",
   "nbconvert_exporter": "python",
   "pygments_lexer": "ipython3",
   "version": "3.12.9"
  }
 },
 "nbformat": 4,
 "nbformat_minor": 2
}
