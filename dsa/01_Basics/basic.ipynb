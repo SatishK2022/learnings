{
 "cells": [
  {
   "cell_type": "markdown",
   "metadata": {},
   "source": [
    "# **1–5: Variables, Data Types, Input/Output**"
   ]
  },
  {
   "cell_type": "markdown",
   "metadata": {},
   "source": [
    "### 1. Write a program to take your name and age as input and print it."
   ]
  },
  {
   "cell_type": "code",
   "execution_count": 1,
   "metadata": {},
   "outputs": [
    {
     "name": "stdout",
     "output_type": "stream",
     "text": [
      "Hii Satish, Your are 21 years old.\n"
     ]
    }
   ],
   "source": [
    "name = input(\"Enter your name: \")\n",
    "age = int(input(\"Enter your age: \"))\n",
    "\n",
    "print(f\"Hii {name}, Your are {age} years old.\")"
   ]
  },
  {
   "cell_type": "markdown",
   "metadata": {},
   "source": [
    "### 2. Input two numbers and print their sum, difference, product, and quotient."
   ]
  },
  {
   "cell_type": "code",
   "execution_count": null,
   "metadata": {},
   "outputs": [],
   "source": [
    "num1 = int(input(\"Enter the first number: \"))\n",
    "num2 = int(input(\"Enter the second number: \"))\n",
    "\n",
    "print(f\"\\n\\nSum: {num1 + num2}\")\n",
    "print(f\"Difference: {num1 - num2}\")\n",
    "print(f\"Product: {num1 * num2}\")\n",
    "print(f\"Quotient: {num1 / num2}\")"
   ]
  },
  {
   "cell_type": "markdown",
   "metadata": {},
   "source": [
    "### 3. Convert temperature from Celsius to Fahrenheit."
   ]
  },
  {
   "cell_type": "code",
   "execution_count": null,
   "metadata": {},
   "outputs": [],
   "source": [
    "temp_in_c = 50 # in °C\n",
    "temp_in_f = temp_in_c * (9 / 5) + 32\n",
    "\n",
    "print(f\"The Temprature is {temp_in_f} °F\")"
   ]
  },
  {
   "cell_type": "markdown",
   "metadata": {},
   "source": [
    "### 4. Swap two numbers (without using a third variable)."
   ]
  },
  {
   "cell_type": "code",
   "execution_count": null,
   "metadata": {},
   "outputs": [],
   "source": [
    "a = 20\n",
    "b = 10\n",
    "\n",
    "print(f\"A: {a} and B: {b}\")\n",
    "\n",
    "a = a + b\n",
    "b = a - b\n",
    "a = a - b\n",
    "\n",
    "print(f\"A: {a} and B: {b}\")"
   ]
  },
  {
   "cell_type": "markdown",
   "metadata": {},
   "source": [
    "### 5. Take user input for radius and calculate the area and circumference of a circle."
   ]
  },
  {
   "cell_type": "code",
   "execution_count": null,
   "metadata": {},
   "outputs": [],
   "source": [
    "radius = int(input(\"Enter the radius of circle: \"))\n",
    "\n",
    "area = 3.14 * (radius * radius)\n",
    "circum = 2 * 3.14 * radius\n",
    "\n",
    "print(f\"Area is {area} and Circumference is {round(circum, 2)}\")"
   ]
  },
  {
   "cell_type": "markdown",
   "metadata": {},
   "source": [
    "# **6–10: Operators (Arithmetic, Relational, Logical)**"
   ]
  },
  {
   "cell_type": "markdown",
   "metadata": {},
   "source": [
    "### 6. Check if a number is even or odd."
   ]
  },
  {
   "cell_type": "code",
   "execution_count": 4,
   "metadata": {},
   "outputs": [
    {
     "name": "stdout",
     "output_type": "stream",
     "text": [
      "21 is odd\n"
     ]
    }
   ],
   "source": [
    "num = 21\n",
    "\n",
    "if (num % 2 == 0):\n",
    "    print(f\"{num} is even\")\n",
    "else:\n",
    "    print(f\"{num} is odd\")"
   ]
  },
  {
   "cell_type": "markdown",
   "metadata": {},
   "source": [
    "### 7. Take two numbers and print whether the first is greater than the second."
   ]
  },
  {
   "cell_type": "code",
   "execution_count": 5,
   "metadata": {},
   "outputs": [
    {
     "name": "stdout",
     "output_type": "stream",
     "text": [
      "num1 is not greater than num2\n"
     ]
    }
   ],
   "source": [
    "num1 = 10\n",
    "num2 = 20\n",
    "\n",
    "if num1 > num2:\n",
    "    print(f\"num1 is greater than num2\")\n",
    "else:\n",
    "    print(f\"num1 is not greater than num2\")"
   ]
  },
  {
   "cell_type": "markdown",
   "metadata": {},
   "source": [
    "### 8. Write a program to demonstrate all arithmetic operators with two inputs."
   ]
  },
  {
   "cell_type": "code",
   "execution_count": 6,
   "metadata": {},
   "outputs": [
    {
     "name": "stdout",
     "output_type": "stream",
     "text": [
      "Sum is 12\n",
      "Substraction is 8\n",
      "Multiply is 20\n",
      "Divide is 5.0\n",
      "Remainder is 0\n",
      "Exponentation is 100\n"
     ]
    }
   ],
   "source": [
    "num1 = 10\n",
    "num2 = 2\n",
    "\n",
    "print(f\"Sum is {num1 + num2}\")\n",
    "print(f\"Substraction is {num1 - num2}\")\n",
    "print(f\"Multiply is {num1 * num2}\")\n",
    "print(f\"Divide is {num1 / num2}\")\n",
    "print(f\"Remainder is {num1 % num2}\")\n",
    "print(f\"Exponentation is {num1 ** num2}\")"
   ]
  },
  {
   "cell_type": "markdown",
   "metadata": {},
   "source": [
    "### 9. Check if a number is divisible by both 3 and 5 using logical operators."
   ]
  },
  {
   "cell_type": "code",
   "execution_count": null,
   "metadata": {},
   "outputs": [],
   "source": [
    "num = 15\n",
    "\n",
    "if num % 3 == 0 or num % 5 == 0:\n",
    "    print(\"Number is divisible by 3 and 5\")\n",
    "else:\n",
    "    print(\"Number is not divisible by 3 and 5\")"
   ]
  },
  {
   "cell_type": "markdown",
   "metadata": {},
   "source": [
    "### 10. Print true if a person is eligible to vote (age >= 18), otherwise false."
   ]
  },
  {
   "cell_type": "code",
   "execution_count": 8,
   "metadata": {},
   "outputs": [
    {
     "name": "stdout",
     "output_type": "stream",
     "text": [
      "You are eligible to vote\n"
     ]
    }
   ],
   "source": [
    "age = 21\n",
    "\n",
    "if age >= 18:\n",
    "    print(\"You are eligible to vote\")\n",
    "else:\n",
    "    print(\"You are not eligible to vote\")"
   ]
  }
 ],
 "metadata": {
  "kernelspec": {
   "display_name": "Python 3",
   "language": "python",
   "name": "python3"
  },
  "language_info": {
   "codemirror_mode": {
    "name": "ipython",
    "version": 3
   },
   "file_extension": ".py",
   "mimetype": "text/x-python",
   "name": "python",
   "nbconvert_exporter": "python",
   "pygments_lexer": "ipython3",
   "version": "3.12.9"
  }
 },
 "nbformat": 4,
 "nbformat_minor": 2
}
